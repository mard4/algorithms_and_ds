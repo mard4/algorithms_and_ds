{
 "cells": [
  {
   "cell_type": "code",
   "execution_count": 1,
   "metadata": {},
   "outputs": [],
   "source": [
    "class SortingAlgorithm:\n",
    "    def __init__(self, data, verbose=True):\n",
    "        self.data = data\n",
    "        self.comparisons = 0\n",
    "        self.operations = 0\n",
    "        self.verbose = verbose\n",
    "\n",
    "    def getData(self):\n",
    "        return self.data\n",
    "\n",
    "    def getOperations(self):\n",
    "        return self.operations\n",
    "\n",
    "    def getComparisons(self):\n",
    "        return self.comparisons\n",
    "\n",
    "    def sort(self):\n",
    "        raise NotImplementedError"
   ]
  },
  {
   "cell_type": "markdown",
   "metadata": {},
   "source": [
    "1 - Implement a class **SelectionSort** that inherits from the base class, with the following attributes:\n",
    "\n",
    "- data (the actual data to sort)\n",
    "\n",
    "- operations (initialized to 0) that counts how many swaps have been done to perform the sorting\n",
    "\n",
    "- comparisons (initialized to 0) that counts how many comparisons have been done\n",
    "\n",
    "- verbose a boolean (default= True) that is used to decide if the method should report what is happening at each step and some stats or not.\n",
    "\n",
    "The class implements the sort method, sort, that implements the selection sort algorithm (two more private methods might be needed to compute swap and argmin – see description above).\n",
    "\n",
    "Once you implemented the class, test it with some data like:\n",
    "\n",
    "[7, 5, 10, -11 ,3, -4, 99, 1]\n",
    "\n",
    "<center><img src=\"/img/54.png\" width=\"400\"/></center>"
   ]
  },
  {
   "cell_type": "code",
   "execution_count": 4,
   "metadata": {},
   "outputs": [
    {
     "name": "stdout",
     "output_type": "stream",
     "text": [
      "i 7 j 5 Min is:  5\n",
      "i 7 j 10 min is:  7\n",
      "i 7 j -11 Min is:  -11\n",
      "i 7 j 3 Min is:  3\n",
      "i 7 j -4 Min is:  -4\n",
      "i 7 j 99 min is:  7\n",
      "i 7 j 1 Min is:  1\n",
      "i 7 j -12 Min is:  -12\n",
      "i 5 j 10 min is:  5\n",
      "i 5 j -11 Min is:  -11\n",
      "i 5 j 3 Min is:  3\n",
      "i 5 j -4 Min is:  -4\n",
      "i 5 j 99 min is:  5\n",
      "i 5 j 1 Min is:  1\n",
      "i 5 j 7 min is:  5\n",
      "i 10 j -11 Min is:  -11\n",
      "i 10 j 3 Min is:  3\n",
      "i 10 j -4 Min is:  -4\n",
      "i 10 j 99 min is:  10\n",
      "i 10 j 5 Min is:  5\n",
      "i 10 j 7 Min is:  7\n",
      "i -11 j 3 min is:  -11\n",
      "i -11 j -4 min is:  -11\n",
      "i -11 j 99 min is:  -11\n",
      "i -11 j 5 min is:  -11\n",
      "i -11 j 10 min is:  -11\n",
      "i 3 j -4 Min is:  -4\n",
      "i 3 j 99 min is:  3\n",
      "i 3 j 5 min is:  3\n",
      "i 3 j 10 min is:  3\n",
      "i 3 j 99 min is:  3\n",
      "i 3 j 5 min is:  3\n",
      "i 3 j 10 min is:  3\n",
      "i 99 j 5 Min is:  5\n",
      "i 99 j 10 Min is:  10\n",
      "i 5 j 99 min is:  5\n",
      "Sorted list:  [-12, 1, 7, -11, -4, 3, 10, 5, 99]\n",
      "Operations:  9\n",
      "Comparisons:  36\n"
     ]
    }
   ],
   "source": [
    "class SelectionSort(SortingAlgorithm):\n",
    "    \n",
    "        \n",
    "    def swap(self, i,j):\n",
    "        \"\"\"swap i with j\"\"\"\n",
    "        self.data[i], self.data[j] = self.data[j], self.data[i]\n",
    "        self.operations += 1  # add operations\n",
    "        \n",
    "    def sort(self):\n",
    "        n = len(self.data)\n",
    "        \n",
    "        \"\"\" ARGMIN\"\"\"\n",
    "        for i in range(0,n):\n",
    "            min = i\n",
    "            \n",
    "            for j in range(i+1, n):\n",
    "                self.comparisons += 1   ## add comparisons\n",
    "                if self.data[j] < self.data[i]:\n",
    "                    min = j\n",
    "                    print(\"i\", self.data[i],\"j\",self.data[j], \"Min is: \",self.data[min])      \n",
    "                else:\n",
    "                    # j > i so i dont update the min\n",
    "                    print(\"i\",self.data[i],\"j\",self.data[j], \"min is: \", self.data[i])\n",
    "            \"\"\"SWAP\"\"\"        \n",
    "            self.swap(i, min) \n",
    "            \n",
    "            \n",
    "lista = [7, 5, 10, -11, 3, -4, 99, 1, -12]\n",
    "\n",
    "sa = SelectionSort(lista)\n",
    "sa.sort()\n",
    "print(\"Sorted list: \", sa.getData())\n",
    "print(\"Operations: \", sa.getOperations())\n",
    "print(\"Comparisons: \", sa.getComparisons())"
   ]
  },
  {
   "cell_type": "markdown",
   "metadata": {},
   "source": [
    "<hr>"
   ]
  },
  {
   "cell_type": "markdown",
   "metadata": {},
   "source": [
    "2. Implement a class **InsertionSort** that inherits from the base class and has the following attributes:\n",
    "\n",
    "- data (the actual data to sort)\n",
    "\n",
    "- operations (initialized to 0) that counts how many swaps (movements of data to the left) have been done to perform the sorting\n",
    "\n",
    "- comparisons (initialized to 0) that counts how many comparisons have been done\n",
    "\n",
    "- verbose, a boolean (default= True) used to decide if the method should report what is happening at each step and some stats or not\n",
    "\n",
    "The class should implement the sort method.\n",
    "\n",
    "<center><img src=\"/img/55.png\" width=\"400\"/></center>"
   ]
  },
  {
   "cell_type": "code",
   "execution_count": 7,
   "metadata": {},
   "outputs": [
    {
     "name": "stdout",
     "output_type": "stream",
     "text": [
      "Sorted list: [-12, -11, -4, 1, 3, 5, 7, 10, 99]\n",
      "Operations: 32\n",
      "Comparisons: 24\n"
     ]
    }
   ],
   "source": [
    "class InsertionSort(SortingAlgorithm):\n",
    "    \n",
    "    def swap(self, i, j):\n",
    "        # Swaps elements at indices i and j in the data list\n",
    "        self.data[i], self.data[j] = self.data[j], self.data[i]\n",
    "        self.operations += 1\n",
    "\n",
    "    def sort(self):\n",
    "        n = len(self.data)\n",
    "        \n",
    "        # Iterate through each element starting from the second one\n",
    "        for i in range(1, n):\n",
    "            # Store the current element to be compared and inserted\n",
    "            key = self.data[i]\n",
    "            \n",
    "            # Initialize a pointer to the element before the current one\n",
    "            j = i - 1\n",
    "\n",
    "            # Compare and shift elements to make space for the key\n",
    "            while j >= 0 and key < self.data[j]:\n",
    "                self.comparisons += 1\n",
    "                self.swap(j + 1, j)\n",
    "                j -= 1\n",
    "\n",
    "            # Place the key in its correct position\n",
    "            self.data[j + 1] = key\n",
    "            self.operations += 1\n",
    "\n",
    "# Example usage:\n",
    "data_to_sort = [7, 5, 10, -11, 3, -4, 99, 1, -12]\n",
    "insertion_sort = InsertionSort(data_to_sort)\n",
    "insertion_sort.sort()\n",
    "\n",
    "\n",
    "# Display the sorted list and performance metrics\n",
    "print(\"Sorted list:\", insertion_sort.data)\n",
    "print(\"Operations:\", insertion_sort.operations)\n",
    "print(\"Comparisons:\", insertion_sort.comparisons)\n"
   ]
  },
  {
   "cell_type": "code",
   "execution_count": 22,
   "metadata": {},
   "outputs": [
    {
     "name": "stdout",
     "output_type": "stream",
     "text": [
      "Sorted list: [-12, -11, -4, 1, 3, 5, 7, 10, 99]\n",
      "Operations: 0\n",
      "Comparisons: 0\n"
     ]
    }
   ],
   "source": [
    "### altro modo (migliore)\n",
    "\n",
    "class InsertionSort2(SortingAlgorithm):\n",
    "        \n",
    "    def sort(self):\n",
    "        for i in range(1, len(self.data)):\n",
    "            index = i\n",
    "            value = self.data[i]\n",
    "\n",
    "            while index > 0 and self.data[index - 1] > value:\n",
    "                self.data[index] = self.data[index - 1]\n",
    "                index -= 1\n",
    "\n",
    "            self.data[index] = value\n",
    "            \n",
    "            \n",
    "data_to_sort = [7, 5, 10, -11, 3, -4, 99, 1, -12]\n",
    "insertion_sort = InsertionSort2(data_to_sort)\n",
    "insertion_sort.sort()      \n",
    "print(\"Sorted list:\", insertion_sort.data)\n",
    "print(\"Operations:\", insertion_sort.operations)\n",
    "print(\"Comparisons:\", insertion_sort.comparisons)       \n",
    "         "
   ]
  },
  {
   "cell_type": "markdown",
   "metadata": {},
   "source": [
    "**Merge sort**"
   ]
  },
  {
   "cell_type": "code",
   "execution_count": 25,
   "metadata": {},
   "outputs": [
    {
     "name": "stdout",
     "output_type": "stream",
     "text": [
      "4\n",
      "Sorted list: [7, 5, 10, -11, 3, -4, 99, 1, -12]\n"
     ]
    }
   ],
   "source": [
    "class MergeSort(SortingAlgorithm):\n",
    "    \n",
    "    def split(self, list):\n",
    "        \"\"\"breaks the list in two similarly sized lists \n",
    "            (if the size is odd, the first list is \n",
    "            always one element bigger than the other);\"\"\"\n",
    "        \n",
    "        if len(list) == 1:\n",
    "            return list\n",
    "            \n",
    "        mediana = len(list) // 2\n",
    "        left_list = lista[:mediana]\n",
    "        right_list = lista[mediana:]\n",
    "        \n",
    "        half_a = merge_sort(left_list) # recursively call merge_sort on the first half\n",
    "        half_b = merge_sort(right_list) # recursively call merge_sort on the second half\n",
    "        return self.merge(half_a, half_b)\n",
    "        \n",
    "    def merge(self, left_list, right_list):\n",
    "        merged_list = []\n",
    "        left_index, right_index = 0,0\n",
    "        \n",
    "        while len(left_list) > left_index and len(right_list) > right_index:\n",
    "            if left_list[left_index] < right_list[right_index]:\n",
    "                merged_list.append(left_list[left_index])\n",
    "                left_index += 1    \n",
    "                \n",
    "            if right_list[right_index] < left_list[left_index]:\n",
    "                merged_list.append(right_list[right_index])\n",
    "                right_index += 1   \n",
    "                \n",
    "        if len(left_list) == left_index-1:\n",
    "            merged_list.extend(right_list)  \n",
    "                          \n",
    "        if len(right_list) == right_index-1:\n",
    "            merged_list.extend(left_list)  \n",
    "               \n",
    "            \n",
    "\n",
    "        \n",
    "        \n",
    "    \n",
    "    \n",
    "    \n",
    "    \n",
    "        \n",
    "data_to_sort = [7, 5, 10, -11, 3, -4, 99, 1, -12]\n",
    "merge_sort = MergeSort(data_to_sort)\n",
    "#merge_sort.sort()\n",
    "#merge_sort.split()        \n",
    "print(\"Sorted list:\", merge_sort.data)"
   ]
  },
  {
   "cell_type": "code",
   "execution_count": null,
   "metadata": {},
   "outputs": [],
   "source": []
  }
 ],
 "metadata": {
  "kernelspec": {
   "display_name": "Python 3",
   "language": "python",
   "name": "python3"
  },
  "language_info": {
   "codemirror_mode": {
    "name": "ipython",
    "version": 3
   },
   "file_extension": ".py",
   "mimetype": "text/x-python",
   "name": "python",
   "nbconvert_exporter": "python",
   "pygments_lexer": "ipython3",
   "version": "3.11.5"
  }
 },
 "nbformat": 4,
 "nbformat_minor": 2
}
