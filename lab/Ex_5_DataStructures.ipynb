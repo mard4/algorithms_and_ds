{
 "cells": [
  {
   "cell_type": "markdown",
   "metadata": {},
   "source": [
    "### Exercise (set implementation)\n",
    "\n",
    "1. Write a simple MySet class that implements the abstract data type **set**. Use a dictionary as internal data structure (hint: you can put the element as key of the dictionary and the value as \"1\"). For simplicity, the object should be constructed by passing to it a list of elements (e.g. S = mySet(\\[1,2,3\\]).\n",
    "\n",
    "The ADT of the set structure is (i.e. the methods to implement): \n",
    "\n",
    "Implement the **iterator** interface that **yields** the next elements. Implement a special method ```__contains__``` to test if an element is present with **el in S**. \n",
    "\n",
    "Test the code with the below code and then compare the results with what would give python's built-in ```set``` data structure."
   ]
  },
  {
   "cell_type": "code",
   "execution_count": 43,
   "metadata": {},
   "outputs": [],
   "source": [
    "class MySet:\n",
    "    def __init__(self, data):\n",
    "        self.data = {}\n",
    "        \n",
    "        #n = 0\n",
    "        for i in data:\n",
    "            self.data[i] = 1   # because the dict cannot have duplicate keyes\n",
    "            \n",
    "    def getData(self):\n",
    "        return self.data\n",
    "    \n",
    "    def __iter__(self):\n",
    "        self.i = 0\n",
    "        return self\n",
    "        \n",
    "    def __next__(self):\n",
    "        if self.i < len(self.data):\n",
    "            current = self.i\n",
    "            self.i += 1\n",
    "            return self.data[current]\n",
    "        \n",
    "        else:\n",
    "            self.i = 0\n",
    "            raise StopIteration \n",
    "        \n",
    "    # def __contains__(self):\n",
    "        \n",
    "    \n",
    "    def add(self, element):\n",
    "        self.data[element] = 1\n",
    "        \n",
    "    def getLen(self):\n",
    "        return len(self.data)\n",
    "    \n",
    "    def discard(self, element):\n",
    "        del self.data[element] \n",
    "        \n",
    "    #def union(self, set2):\n",
    "        #for i in set2:\n",
    "        #    print(\"i:\",i)\n",
    "        #     if i not in self.data:\n",
    "        #         new_set = self.data[i] = 1\n",
    "                \n",
    "        # return new_set\n",
    "        "
   ]
  },
  {
   "cell_type": "code",
   "execution_count": 45,
   "metadata": {},
   "outputs": [
    {
     "name": "stdout",
     "output_type": "stream",
     "text": [
      "{33: 1, 1: 1, 4: 1, 5: 1, 7: 1, 3: 1, 46: 1}\n",
      "7\n",
      "{33: 1, 1: 1, 4: 1, 5: 1, 7: 1, 3: 1}\n",
      "S1: {S1}\n"
     ]
    }
   ],
   "source": [
    "S = MySet([33, 1,4,5,7,5,5,5,4,7,3])\n",
    "S.getData()\n",
    "S.add(46)\n",
    "print(S.getData())\n",
    "print(S.getLen())\n",
    "\n",
    "S.discard(46)\n",
    "print(S.getData())\n",
    "\n",
    "S1 = MySet([33, 0, 3,4, 4, 33,44])\n",
    "print(\"S1: {S1}\")\n",
    "\n",
    "#print(f\"\\nUnion: {S.union(S1)}\")\n"
   ]
  },
  {
   "cell_type": "code",
   "execution_count": 46,
   "metadata": {},
   "outputs": [
    {
     "name": "stdout",
     "output_type": "stream",
     "text": [
      "Initial S: <__main__.MySet object at 0x00000277E65A92D0>\n"
     ]
    },
    {
     "ename": "KeyError",
     "evalue": "77",
     "output_type": "error",
     "traceback": [
      "\u001b[1;31m---------------------------------------------------------------------------\u001b[0m",
      "\u001b[1;31mKeyError\u001b[0m                                  Traceback (most recent call last)",
      "\u001b[1;32mc:\\Users\\Mardeen\\Desktop\\University\\GitHub\\algorithms_and_ds\\algorithms_and_ds\\lab\\Ex_5_DataStructures.ipynb Cell 4\u001b[0m line \u001b[0;36m4\n\u001b[0;32m      <a href='vscode-notebook-cell:/c%3A/Users/Mardeen/Desktop/University/GitHub/algorithms_and_ds/algorithms_and_ds/lab/Ex_5_DataStructures.ipynb#W0sZmlsZQ%3D%3D?line=1'>2</a>\u001b[0m \u001b[39mprint\u001b[39m(\u001b[39m\"\u001b[39m\u001b[39mInitial S: \u001b[39m\u001b[39m{}\u001b[39;00m\u001b[39m\"\u001b[39m\u001b[39m.\u001b[39mformat(S))\n\u001b[0;32m      <a href='vscode-notebook-cell:/c%3A/Users/Mardeen/Desktop/University/GitHub/algorithms_and_ds/algorithms_and_ds/lab/Ex_5_DataStructures.ipynb#W0sZmlsZQ%3D%3D?line=2'>3</a>\u001b[0m S\u001b[39m.\u001b[39madd(\u001b[39m125\u001b[39m)\n\u001b[1;32m----> <a href='vscode-notebook-cell:/c%3A/Users/Mardeen/Desktop/University/GitHub/algorithms_and_ds/algorithms_and_ds/lab/Ex_5_DataStructures.ipynb#W0sZmlsZQ%3D%3D?line=3'>4</a>\u001b[0m S\u001b[39m.\u001b[39;49mdiscard(\u001b[39m77\u001b[39;49m)\n\u001b[0;32m      <a href='vscode-notebook-cell:/c%3A/Users/Mardeen/Desktop/University/GitHub/algorithms_and_ds/algorithms_and_ds/lab/Ex_5_DataStructures.ipynb#W0sZmlsZQ%3D%3D?line=4'>5</a>\u001b[0m S\u001b[39m.\u001b[39mdiscard(\u001b[39m5\u001b[39m)\n\u001b[0;32m      <a href='vscode-notebook-cell:/c%3A/Users/Mardeen/Desktop/University/GitHub/algorithms_and_ds/algorithms_and_ds/lab/Ex_5_DataStructures.ipynb#W0sZmlsZQ%3D%3D?line=5'>6</a>\u001b[0m \u001b[39mprint\u001b[39m(\u001b[39m\"\u001b[39m\u001b[39mS now: \u001b[39m\u001b[39m{}\u001b[39;00m\u001b[39m\"\u001b[39m\u001b[39m.\u001b[39mformat(S))\n",
      "\u001b[1;32mc:\\Users\\Mardeen\\Desktop\\University\\GitHub\\algorithms_and_ds\\algorithms_and_ds\\lab\\Ex_5_DataStructures.ipynb Cell 4\u001b[0m line \u001b[0;36m3\n\u001b[0;32m     <a href='vscode-notebook-cell:/c%3A/Users/Mardeen/Desktop/University/GitHub/algorithms_and_ds/algorithms_and_ds/lab/Ex_5_DataStructures.ipynb#W0sZmlsZQ%3D%3D?line=34'>35</a>\u001b[0m \u001b[39mdef\u001b[39;00m \u001b[39mdiscard\u001b[39m(\u001b[39mself\u001b[39m, element):\n\u001b[1;32m---> <a href='vscode-notebook-cell:/c%3A/Users/Mardeen/Desktop/University/GitHub/algorithms_and_ds/algorithms_and_ds/lab/Ex_5_DataStructures.ipynb#W0sZmlsZQ%3D%3D?line=35'>36</a>\u001b[0m     \u001b[39mdel\u001b[39;00m \u001b[39mself\u001b[39;49m\u001b[39m.\u001b[39;49mdata[element]\n",
      "\u001b[1;31mKeyError\u001b[0m: 77"
     ]
    }
   ],
   "source": [
    "\n",
    "S = MySet([33, 1,4,5,7,5,5,5,4,7,3])\n",
    "print(\"Initial S: {}\".format(S))\n",
    "S.add(125)\n",
    "S.discard(77)\n",
    "S.discard(5)\n",
    "print(\"S now: {}\".format(S))\n",
    "print(\"Does S contain 13? {}\".format(13 in S))\n",
    "print(\"Does S contain 125? {}\".format(125 in S))\n",
    "print(\"All elements in S:\")\n",
    "for s in S:\n",
    "    print(\"\\telement: {}\".format(s))\n",
    "\n",
    "print(\"\\nS:{}\".format(S))\n",
    "S1 = MySet([33, 0, 3,4, 4, 33,44])\n",
    "print(\"S1: {}\".format(S1))\n",
    "print(\"\\nUnion: {}\".format(S.union(S1)))\n",
    "print(\"Intersection: {}\".format(S.intersection(S1)))\n",
    "print(\"S - S1: {}\".format(S.difference(S1)))\n",
    "print(\"S1 - S: {}\".format(S1.difference(S)))\n",
    "print(\"(S - S1) U (S1 -S): {}\".format(S.difference(S1).union(S1.difference(S))))\n"
   ]
  },
  {
   "cell_type": "code",
   "execution_count": null,
   "metadata": {},
   "outputs": [],
   "source": []
  }
 ],
 "metadata": {
  "kernelspec": {
   "display_name": "Python 3",
   "language": "python",
   "name": "python3"
  },
  "language_info": {
   "codemirror_mode": {
    "name": "ipython",
    "version": 3
   },
   "file_extension": ".py",
   "mimetype": "text/x-python",
   "name": "python",
   "nbconvert_exporter": "python",
   "pygments_lexer": "ipython3",
   "version": "3.11.5"
  }
 },
 "nbformat": 4,
 "nbformat_minor": 2
}
