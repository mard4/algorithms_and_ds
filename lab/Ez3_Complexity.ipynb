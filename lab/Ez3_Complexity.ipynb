{
 "cells": [
  {
   "cell_type": "markdown",
   "metadata": {},
   "source": [
    "1. Let M be a square matrix - a list containing n lists, each of them of size n. Return the computational complexity of function fun() with respect to n:"
   ]
  },
  {
   "cell_type": "code",
   "execution_count": 1,
   "metadata": {},
   "outputs": [],
   "source": [
    "def fun(M):\n",
    "    for row in M:    #n\n",
    "        for element in row:   #n\n",
    "            print(sum([x for x in row if x != element])) #n \n",
    "            \n",
    "#The complexity is n * n * n = O(n^3)"
   ]
  },
  {
   "cell_type": "markdown",
   "metadata": {},
   "source": [
    "2. Given a list L of n elements, please compute the asymptotic computational complexity of the following function, explaining your reasoning."
   ]
  },
  {
   "cell_type": "code",
   "execution_count": null,
   "metadata": {},
   "outputs": [],
   "source": [
    "def my_fun(L):\n",
    "    n = len(L)   # O(1)\n",
    "    tmp = []     # O(1)\n",
    "    for i in range(int(n)):   \n",
    "        tmp.insert(0,L[i]-L[int(n/3)]) # n\n",
    "    return sum(tmp) # n\n",
    "\n",
    "for a in range(10,0):\n",
    "    L[a] =L[a-1] # n\n",
    "    L[a-1] = a  # n\n",
    "#The asymptotic complexity is quadratic n*n = O(n^2)"
   ]
  },
  {
   "cell_type": "markdown",
   "metadata": {},
   "source": [
    "3. Given a sorted list alist of n elements, please compute the asymptotic computational complexity of the following function implementing binary search, explaining your reasoning."
   ]
  },
  {
   "cell_type": "code",
   "execution_count": 5,
   "metadata": {},
   "outputs": [
    {
     "name": "stdout",
     "output_type": "stream",
     "text": [
      "item > mid  5 9\n",
      "item > mid  8 9\n",
      "found case  9 9\n"
     ]
    },
    {
     "data": {
      "text/plain": [
       "True"
      ]
     },
     "execution_count": 5,
     "metadata": {},
     "output_type": "execute_result"
    }
   ],
   "source": [
    "alist = [1,2,3,4,5,6,7,8,9,10]\n",
    "item = 9\n",
    "\n",
    "def binarySearch(alist, item):\n",
    "    first = 0  # O(1)\n",
    "    last = len(alist)-1 # O(1)\n",
    "    found = False # O(1)\n",
    "\n",
    "    while first <= last and not found: \n",
    "        midpoint = (first + last)//2  # log(n)\n",
    "        if alist[midpoint] == item: # O(1)\n",
    "            print(\"found case \",alist[midpoint], item)\n",
    "            found = True\n",
    "        else:\n",
    "            if item < alist[midpoint]:\n",
    "                print(\"item < mid \",alist[midpoint], item)\n",
    "                last = midpoint-1\n",
    "            else:\n",
    "                print(\"item > mid \",alist[midpoint], item)\n",
    "                first = midpoint+1\n",
    "\n",
    "    return found\n",
    "\n",
    "binarySearch(alist, item)\n",
    "# In the worst case scenario while got complexity O(n),\n",
    "# but in this case we have an asymptotic \n",
    "# complexity of O(log(n))"
   ]
  },
  {
   "cell_type": "markdown",
   "metadata": {},
   "source": [
    "4. Please compute the asymptotic computational complexity of the following code, that computes the Fibonacci sequence according to the following formula:\n",
    "\n",
    "If $n$ is even, then k = n/2 and F(n) = [2*F(k-1) + F(k)]*F(k)\n",
    "\n",
    "If $n$ is odd, then k = (n + 1)/2 and F(n) = F(k)*F(k) + F(k-1)*F(k-1)."
   ]
  },
  {
   "cell_type": "code",
   "execution_count": 6,
   "metadata": {},
   "outputs": [
    {
     "name": "stdout",
     "output_type": "stream",
     "text": [
      "0 1 1 2 3 5 8 13 21 34 \n"
     ]
    }
   ],
   "source": [
    "# Create an array of length n for memoization (we will see later what memoization is...)\n",
    "n = 10\n",
    "f = [0] * n\n",
    "\n",
    "# Returns n'th fibonacci number using table f[]\n",
    "def fib(n) :\n",
    "    # Base cases\n",
    "    if (n == 0) :\n",
    "        return 0\n",
    "    if (n == 1 or n == 2) :\n",
    "        f[n] = 1\n",
    "        return (f[n])\n",
    "\n",
    "    # If fib(n) is already computed (thanks to memoization)\n",
    "    if (f[n]):\n",
    "        return f[n]\n",
    "\n",
    "    # Applying above formula [Note value n&1 is 1\n",
    "    # if n is odd, else 0.\n",
    "    if((n & 1)):\n",
    "        # (n & 1) is 1 when n is odd, 0 otherwise\n",
    "        k = (n + 1) // 2\n",
    "        f[n] = (fib(k) * fib(k) + fib(k-1) * fib(k-1))\n",
    "    else :\n",
    "        k = n // 2\n",
    "        f[n] = (2*fib(k-1) + fib(k))*fib(k)\n",
    "\n",
    "    return f[n]\n",
    "\n",
    "\n",
    "# main code\n",
    "for i in range(n):\n",
    "    print(fib(i), end=' ') # avoids to add a new line at each iteration\n",
    "print('') # to go to new line at the end"
   ]
  },
  {
   "cell_type": "markdown",
   "metadata": {},
   "source": [
    "5. Please compute the asymptotic computational complexity of the function subsets, that computes all the subsets of a set of elements."
   ]
  },
  {
   "cell_type": "code",
   "execution_count": null,
   "metadata": {},
   "outputs": [],
   "source": [
    "from itertools import chain, combinations\n",
    "\n",
    "# set items are not ordered\n",
    "### all the possible combinations of n elements\n",
    "def subsets(elementSet):\n",
    "    return set(chain.from_iterable(combinations(elementSet, r) for r in range(len(elementSet)+1)))\n",
    "\n",
    "print('Subsets of {a,b}:', subsets({'a','b'}))\n",
    "print('Subsets of {a,b,c}:', subsets({'a','b','c'}))"
   ]
  }
 ],
 "metadata": {
  "kernelspec": {
   "display_name": "Python 3",
   "language": "python",
   "name": "python3"
  },
  "language_info": {
   "codemirror_mode": {
    "name": "ipython",
    "version": 3
   },
   "file_extension": ".py",
   "mimetype": "text/x-python",
   "name": "python",
   "nbconvert_exporter": "python",
   "pygments_lexer": "ipython3",
   "version": "3.11.5"
  }
 },
 "nbformat": 4,
 "nbformat_minor": 2
}
