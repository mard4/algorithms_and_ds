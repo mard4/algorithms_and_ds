{
 "cells": [
  {
   "cell_type": "markdown",
   "metadata": {},
   "source": [
    "# <center><b> Graphs </b></center>\n",
    "Graphs are a non-linear data structure, in which the problem is represented as a network by connecting a set of nodes with edges, like a telephone network or social network. For example, in a graph, nodes can represent different cities while the links between them represent edges.\n",
    "\n",
    "A graph is a set of a finite number of vertices (also known as nodes) and edges, in which the edges are the links between vertices, and each edge in a graph joins two distinct nodes. Moreover, a graph is a formal mathematical representation of a network, i.e. a graph G is an ordered pair of a set V of vertices and a set E of edges, given as $G = (V, E)$\n",
    "\n",
    "\n",
    "<center><img src=\"./img/92.png\" width=\"200\"/></center>\n",
    "\n",
    "\n",
    "<u> Notations </u>\n",
    "- **Node or vertex**: A point or node in a graph is called a vertex. In the preceding diagram, the vertices or nodes are A, B, C, D, and E and are denoted by a dot.\n",
    "\n",
    "- **Edge**: This is a connection between two vertices. The line connecting A and B is an example of an edge. \n",
    "- **Loop**: When an edge from a node is returned to itself , that edge forms a loop, e.g. D node. \n",
    "- **Degree of a vertex/node**: The total number of edges that are incidental on a given vertex is called the degree of that vertex. For example, the degree of the B vertex in the previous diagram is 4 . \n",
    "- **Adjacency**: This refers to the connection(s) between any two nodes; thus, if there is a connection between any two vertices or nodes, then they are said to be adjacent to each other. For example, the C node is adjacent to the A node because there is an edge between them. \n",
    "- **Path**: A sequence of vertices and edges between any two nodes represents a path. For example, CABE represents a path from the C node to the E node. \n",
    "- **Leaf vertex (also called pendant vertex)**: A vertex or node is called a leaf vertex or pendant vertex if it has exactly one degree.\n",
    "- **Diameter**: of a graph, is the maximum of the distance between any two pair of nodes in the graph\n",
    "- **Distance**: is the smallest number of steps needed to reach one from the other in the graph\n",
    "\n",
    "## <center><b> Directed and Undirected graphs </b></center>\n",
    "\n",
    "If the connecting edges in a graph are undirected, then the graph is called an undirected graph, and if the connecting edges in a graph are directed, then it is called a directed graph. \n",
    "\n",
    "An **undirected graph** simply represents edges as lines between the nodes. \n",
    "There is no additional information about the relationship between the nodes, other than the fact that they are connected.\n",
    "\n",
    "For **directed graphs**, the arrow of an edge determines the flow of direction.\n",
    "\n",
    "In directed graphs, we distinguish between the **in-degree** and **out-degree** according to edges incoming to anode and outgoing from it.\n",
    "\n",
    "<center><img src=\"./img/94.png\" width=\"500\"/></center>\n",
    "\n",
    "\n",
    "#### <center><b> Special Cases </b></center>\n",
    "- **Complete Graph**: a graph with an edge between all pair of nodes\n",
    "- **Sparse graph**: a graph with a few edges with $m = 0(n)$, $m = O(nlogn)$\n",
    "- **Dense graph**: a graph with many edges, with $m = \\Omega (n^2)$\n",
    "- **Unrooted tree**: is a connected graph with $m = n - 1$\n",
    "- **A rooted tree**: is a connected graph with $m = n-1$ in which one node is designated as the *root*\n",
    "\n",
    "\n",
    "<center><img src=\"./img/95.png\" width=\"500\"/></center>"
   ]
  },
  {
   "cell_type": "markdown",
   "metadata": {},
   "source": [
    "## <center><b> Graph representation </b></center>\n",
    "\n",
    "A graph representation technique means how we store the graph in memory, i.e., how we store the vertices, edges, and weights (if the graph is a weighted graph). Graphs can be represented with two methods, i.e. (1) an **adjacency list** based on a linked list, and (2) an **adjacency matrix**.\n",
    "\n",
    "\n",
    "An adjacency list representation is based on a linked list. In this, we represent the graph by maintaining a list of neighbors (also called a adjacent node) for every vertex (or node) of the graph.\n",
    "\n",
    "\n",
    "In an adjacency matrix representation of a graph, we maintain a matrix that represents which node is adjacent to which other node in the graph; i.e., the adjacency matrix has the information of every edge in the graph, which is represented by cells of the matrix.\n",
    "\n",
    "## <center><b> Adjacency Lists </b></center>\n",
    "\n",
    "## <center><b> Adjacency Matrix </b></center>"
   ]
  },
  {
   "cell_type": "markdown",
   "metadata": {},
   "source": [
    "<center><img src=\"./img/93.png\" width=\"500\"/></center>"
   ]
  },
  {
   "cell_type": "code",
   "execution_count": null,
   "metadata": {},
   "outputs": [],
   "source": []
  }
 ],
 "metadata": {
  "language_info": {
   "name": "python"
  }
 },
 "nbformat": 4,
 "nbformat_minor": 2
}
